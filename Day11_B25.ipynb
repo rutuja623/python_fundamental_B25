{
 "cells": [
  {
   "cell_type": "code",
   "execution_count": null,
   "metadata": {},
   "outputs": [],
   "source": [
    "Introduction to conditional statements"
   ]
  },
  {
   "cell_type": "code",
   "execution_count": 2,
   "metadata": {},
   "outputs": [],
   "source": [
    "# general syntax would be"
   ]
  },
  {
   "cell_type": "code",
   "execution_count": null,
   "metadata": {},
   "outputs": [],
   "source": [
    "if cond:\n",
    "    do this...\n",
    "else:\n",
    "    do that"
   ]
  },
  {
   "cell_type": "code",
   "execution_count": 4,
   "metadata": {},
   "outputs": [
    {
     "name": "stdout",
     "output_type": "stream",
     "text": [
      "you are eligible to vote!\n"
     ]
    }
   ],
   "source": [
    "age = 19\n",
    "if age >=18:\n",
    "    print('you are eligible to vote!')\n",
    "else:\n",
    "    print('sorry!,you are too young too vote')"
   ]
  },
  {
   "cell_type": "code",
   "execution_count": null,
   "metadata": {},
   "outputs": [],
   "source": []
  },
  {
   "cell_type": "code",
   "execution_count": 6,
   "metadata": {},
   "outputs": [
    {
     "name": "stdout",
     "output_type": "stream",
     "text": [
      "sorry!,you are too young too vote\n"
     ]
    }
   ],
   "source": [
    "age = 14\n",
    "if age >=18:\n",
    "    print('you are eligible to vote!')\n",
    "else:\n",
    "    print('sorry!,you are too young too vote')"
   ]
  },
  {
   "cell_type": "code",
   "execution_count": null,
   "metadata": {},
   "outputs": [],
   "source": [
    "scenario : museum visit:\n",
    "ticket purchasing options:\n",
    "admission for anyone under the age 4 is free.\n",
    "admission for anyone between the age 4 to 20 is 30rs \n",
    "admission for anyone between the age 20 and above is 50rs"
   ]
  },
  {
   "cell_type": "code",
   "execution_count": null,
   "metadata": {},
   "outputs": [],
   "source": [
    "if elif and else..."
   ]
  },
  {
   "cell_type": "code",
   "execution_count": 11,
   "metadata": {},
   "outputs": [
    {
     "name": "stdout",
     "output_type": "stream",
     "text": [
      "your ticket price is 30rs\n"
     ]
    }
   ],
   "source": [
    "age = 12\n",
    "if age <=4:\n",
    "    print('your ticket price is free')\n",
    "elif age<=20:\n",
    "    print('your ticket price is 30rs')\n",
    "else:\n",
    "    print('your ticket orice is 50rs')"
   ]
  },
  {
   "cell_type": "code",
   "execution_count": null,
   "metadata": {},
   "outputs": [],
   "source": []
  },
  {
   "cell_type": "code",
   "execution_count": 12,
   "metadata": {},
   "outputs": [
    {
     "name": "stdout",
     "output_type": "stream",
     "text": [
      "your ticket price is free\n"
     ]
    }
   ],
   "source": [
    "age = 2\n",
    "if age <=4:\n",
    "    print('your ticket price is free')\n",
    "elif age<=20:\n",
    "    print('your ticket price is 30rs')\n",
    "else:\n",
    "    print('your ticket orice is 50rs')"
   ]
  },
  {
   "cell_type": "code",
   "execution_count": null,
   "metadata": {},
   "outputs": [],
   "source": []
  },
  {
   "cell_type": "code",
   "execution_count": null,
   "metadata": {},
   "outputs": [],
   "source": [
    "Understanding the user accepted input:"
   ]
  },
  {
   "cell_type": "code",
   "execution_count": 14,
   "metadata": {},
   "outputs": [
    {
     "name": "stdout",
     "output_type": "stream",
     "text": [
      "tell me something and i will repeat for you Hello everyone!!\n",
      " Hello everyone!!\n"
     ]
    }
   ],
   "source": [
    "message = input('tell me something and i will repeat for you')\n",
    "print(message)"
   ]
  },
  {
   "cell_type": "code",
   "execution_count": null,
   "metadata": {},
   "outputs": [],
   "source": [
    "# enhancement of code:"
   ]
  },
  {
   "cell_type": "code",
   "execution_count": null,
   "metadata": {},
   "outputs": [],
   "source": [
    "name = input('pls enter your name:')\n",
    "print(f\" hello,{name}\")"
   ]
  },
  {
   "cell_type": "code",
   "execution_count": null,
   "metadata": {},
   "outputs": [],
   "source": []
  },
  {
   "cell_type": "code",
   "execution_count": null,
   "metadata": {},
   "outputs": [],
   "source": []
  },
  {
   "cell_type": "code",
   "execution_count": null,
   "metadata": {},
   "outputs": [],
   "source": []
  }
 ],
 "metadata": {
  "kernelspec": {
   "display_name": "Python 3",
   "language": "python",
   "name": "python3"
  },
  "language_info": {
   "codemirror_mode": {
    "name": "ipython",
    "version": 3
   },
   "file_extension": ".py",
   "mimetype": "text/x-python",
   "name": "python",
   "nbconvert_exporter": "python",
   "pygments_lexer": "ipython3",
   "version": "3.7.6"
  }
 },
 "nbformat": 4,
 "nbformat_minor": 4
}
