{
 "cells": [
  {
   "cell_type": "code",
   "execution_count": 1,
   "metadata": {},
   "outputs": [],
   "source": [
    "#list datatypes:"
   ]
  },
  {
   "cell_type": "code",
   "execution_count": 2,
   "metadata": {},
   "outputs": [
    {
     "name": "stdout",
     "output_type": "stream",
     "text": [
      "['vaibhav', 'sameer', 'neha', 'sakshi', 'manali', 'suraksha', 'kiran', 'akshita']\n"
     ]
    }
   ],
   "source": [
    "students = ['vaibhav','sameer','neha','sakshi','manali','suraksha','kiran','akshita']\n",
    "print(students)"
   ]
  },
  {
   "cell_type": "code",
   "execution_count": 3,
   "metadata": {},
   "outputs": [
    {
     "data": {
      "text/plain": [
       "list"
      ]
     },
     "execution_count": 3,
     "metadata": {},
     "output_type": "execute_result"
    }
   ],
   "source": [
    "type(students)"
   ]
  },
  {
   "cell_type": "code",
   "execution_count": 4,
   "metadata": {},
   "outputs": [],
   "source": [
    "#to appreciate the list of students above"
   ]
  },
  {
   "cell_type": "code",
   "execution_count": 6,
   "metadata": {},
   "outputs": [
    {
     "name": "stdout",
     "output_type": "stream",
     "text": [
      "keep up the good work,vaibhav\n"
     ]
    }
   ],
   "source": [
    "print(f\"keep up the good work,{students[0]}\")"
   ]
  },
  {
   "cell_type": "code",
   "execution_count": 7,
   "metadata": {},
   "outputs": [
    {
     "name": "stdout",
     "output_type": "stream",
     "text": [
      "keep up the good work,sameer\n"
     ]
    }
   ],
   "source": [
    "print(f\"keep up the good work,{students[1]}\")"
   ]
  },
  {
   "cell_type": "code",
   "execution_count": 8,
   "metadata": {},
   "outputs": [
    {
     "name": "stdout",
     "output_type": "stream",
     "text": [
      "keep up the good work,neha\n"
     ]
    }
   ],
   "source": [
    "print(f\"keep up the good work,{students[2]}\")"
   ]
  },
  {
   "cell_type": "code",
   "execution_count": 9,
   "metadata": {},
   "outputs": [],
   "source": [
    "#introduction to for loop:***"
   ]
  },
  {
   "cell_type": "code",
   "execution_count": null,
   "metadata": {},
   "outputs": [],
   "source": [
    "#Genreal syntax for for loop:\n",
    "for temvar in mainvar:  #temvar we will be crating in the loop itself\n",
    "    print(teamvar) #indantation"
   ]
  },
  {
   "cell_type": "code",
   "execution_count": 10,
   "metadata": {},
   "outputs": [],
   "source": [
    "#implementation of for loop"
   ]
  },
  {
   "cell_type": "code",
   "execution_count": null,
   "metadata": {},
   "outputs": [],
   "source": [
    "for x in students:\n",
    "    print(x)"
   ]
  },
  {
   "cell_type": "code",
   "execution_count": 11,
   "metadata": {},
   "outputs": [],
   "source": [
    "#enhancement of the for loop"
   ]
  },
  {
   "cell_type": "code",
   "execution_count": 12,
   "metadata": {},
   "outputs": [
    {
     "name": "stdout",
     "output_type": "stream",
     "text": [
      "keep up the good work,vaibhav\n",
      "keep up the good work,sameer\n",
      "keep up the good work,neha\n",
      "keep up the good work,sakshi\n",
      "keep up the good work,manali\n",
      "keep up the good work,suraksha\n",
      "keep up the good work,kiran\n",
      "keep up the good work,akshita\n"
     ]
    }
   ],
   "source": [
    "for x in students:\n",
    "    print(f\"keep up the good work,{x}\")"
   ]
  },
  {
   "cell_type": "code",
   "execution_count": 13,
   "metadata": {},
   "outputs": [
    {
     "name": "stdout",
     "output_type": "stream",
     "text": [
      "vaibhav\n",
      "sameer\n",
      "neha\n",
      "sakshi\n",
      "manali\n",
      "suraksha\n",
      "kiran\n",
      "akshita\n"
     ]
    }
   ],
   "source": [
    "for batman in students:\n",
    "    print(batman)"
   ]
  },
  {
   "cell_type": "code",
   "execution_count": null,
   "metadata": {},
   "outputs": [],
   "source": [
    "#further enhancement\n"
   ]
  },
  {
   "cell_type": "code",
   "execution_count": 16,
   "metadata": {},
   "outputs": [
    {
     "name": "stdout",
     "output_type": "stream",
     "text": [
      "keep up the good work,vaibhav\n",
      "i will be looking forward to receive your file of taday,vaibhav\n",
      "keep up the good work,sameer\n",
      "i will be looking forward to receive your file of taday,sameer\n",
      "keep up the good work,neha\n",
      "i will be looking forward to receive your file of taday,neha\n",
      "keep up the good work,sakshi\n",
      "i will be looking forward to receive your file of taday,sakshi\n",
      "keep up the good work,manali\n",
      "i will be looking forward to receive your file of taday,manali\n",
      "keep up the good work,suraksha\n",
      "i will be looking forward to receive your file of taday,suraksha\n",
      "keep up the good work,kiran\n",
      "i will be looking forward to receive your file of taday,kiran\n",
      "keep up the good work,akshita\n",
      "i will be looking forward to receive your file of taday,akshita\n"
     ]
    }
   ],
   "source": [
    "for x in students:\n",
    "    print(f\"keep up the good work,{x}\")\n",
    "    print(f\"i will be looking forward to receive your file of taday,{x}\")"
   ]
  },
  {
   "cell_type": "code",
   "execution_count": 17,
   "metadata": {},
   "outputs": [
    {
     "name": "stdout",
     "output_type": "stream",
     "text": [
      "keep up the good work,vaibhav\n",
      "i will be looking forward to receive your file of taday,vaibhav.\n",
      "\n",
      "keep up the good work,sameer\n",
      "i will be looking forward to receive your file of taday,sameer.\n",
      "\n",
      "keep up the good work,neha\n",
      "i will be looking forward to receive your file of taday,neha.\n",
      "\n",
      "keep up the good work,sakshi\n",
      "i will be looking forward to receive your file of taday,sakshi.\n",
      "\n",
      "keep up the good work,manali\n",
      "i will be looking forward to receive your file of taday,manali.\n",
      "\n",
      "keep up the good work,suraksha\n",
      "i will be looking forward to receive your file of taday,suraksha.\n",
      "\n",
      "keep up the good work,kiran\n",
      "i will be looking forward to receive your file of taday,kiran.\n",
      "\n",
      "keep up the good work,akshita\n",
      "i will be looking forward to receive your file of taday,akshita.\n",
      "\n"
     ]
    }
   ],
   "source": [
    "for x in students:\n",
    "    print(f\"keep up the good work,{x}\")\n",
    "    print(f\"i will be looking forward to receive your file of taday,{x}.\\n\")"
   ]
  },
  {
   "cell_type": "code",
   "execution_count": 19,
   "metadata": {},
   "outputs": [
    {
     "name": "stdout",
     "output_type": "stream",
     "text": [
      "keep up the good work,vaibhav\n",
      "i will be looking forward to receive your file of taday,vaibhav.\n",
      "\n",
      "keep up the good work,sameer\n",
      "i will be looking forward to receive your file of taday,sameer.\n",
      "\n",
      "keep up the good work,neha\n",
      "i will be looking forward to receive your file of taday,neha.\n",
      "\n",
      "keep up the good work,sakshi\n",
      "i will be looking forward to receive your file of taday,sakshi.\n",
      "\n",
      "keep up the good work,manali\n",
      "i will be looking forward to receive your file of taday,manali.\n",
      "\n",
      "keep up the good work,suraksha\n",
      "i will be looking forward to receive your file of taday,suraksha.\n",
      "\n",
      "keep up the good work,kiran\n",
      "i will be looking forward to receive your file of taday,kiran.\n",
      "\n",
      "keep up the good work,akshita\n",
      "i will be looking forward to receive your file of taday,akshita.\n",
      "\n",
      "thank you all for showing interestin learning python\n"
     ]
    }
   ],
   "source": [
    "for x in students:\n",
    "    print(f\"keep up the good work,{x}\")\n",
    "    print(f\"i will be looking forward to receive your file of taday,{x}.\\n\")\n",
    "print(\"thank you all for showing interestin learning python\")"
   ]
  },
  {
   "cell_type": "code",
   "execution_count": null,
   "metadata": {},
   "outputs": [],
   "source": []
  },
  {
   "cell_type": "code",
   "execution_count": null,
   "metadata": {},
   "outputs": [],
   "source": []
  },
  {
   "cell_type": "code",
   "execution_count": null,
   "metadata": {},
   "outputs": [],
   "source": []
  }
 ],
 "metadata": {
  "kernelspec": {
   "display_name": "Python 3",
   "language": "python",
   "name": "python3"
  },
  "language_info": {
   "codemirror_mode": {
    "name": "ipython",
    "version": 3
   },
   "file_extension": ".py",
   "mimetype": "text/x-python",
   "name": "python",
   "nbconvert_exporter": "python",
   "pygments_lexer": "ipython3",
   "version": "3.7.6"
  }
 },
 "nbformat": 4,
 "nbformat_minor": 4
}
